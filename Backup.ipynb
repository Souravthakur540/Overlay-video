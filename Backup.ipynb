{
 "cells": [
  {
   "cell_type": "code",
   "execution_count": 8,
   "metadata": {},
   "outputs": [],
   "source": [
    "import cv2\n",
    "import matplotlib.pyplot as plt\n",
    "import numpy as np"
   ]
  },
  {
   "cell_type": "code",
   "execution_count": 9,
   "metadata": {},
   "outputs": [],
   "source": [
    "logo = cv2.imread(\"logo.png\", cv2.IMREAD_UNCHANGED)\n",
    "cap = cv2.VideoCapture('cat.mp4')"
   ]
  },
  {
   "cell_type": "code",
   "execution_count": 10,
   "metadata": {},
   "outputs": [],
   "source": [
    "# Check if camera opened successfully\n",
    "if (cap.isOpened()== False): \n",
    "  print(\"Error opening video stream or file\")\n",
    " \n",
    "# Read until video is completed\n",
    "while(cap.isOpened()):\n",
    "    # Capture frame-by-frame\n",
    "    ret, frame = cap.read()\n",
    "    logo_rgba = cv2.cvtColor(logo, cv2.COLOR_BGRA2RGBA)\n",
    "    \n",
    "    alpha = logo[:, :, 3]\n",
    "    logo_small = cv2.resize(logo_rgba, (500, 168))\n",
    "    \n",
    "    x, y, w, h = 0, 0, logo_small.shape[1], logo_small.shape[0]\n",
    "    frame_cut = frame[y:y+h, x:x+w]\n",
    "    alpha_logo = logo_small[:, :, 3]\n",
    "    for row in range(alpha_logo.shape[0]):\n",
    "        for col in range(alpha_logo.shape[1]):\n",
    "        \n",
    "            if alpha_logo[row, col] >= 155:\n",
    "                frame_cut[row, col] = logo_small[row, col, :3]\n",
    "    \n",
    "  \n",
    "    if ret == True:\n",
    " \n",
    "        # Display the resulting frame\n",
    "        cv2.imshow('Frame',frame)\n",
    " \n",
    "        # Press Q on keyboard to  exit\n",
    "        if cv2.waitKey(33) & 0xFF == ord('q'):\n",
    "          break\n",
    " \n",
    "    # Break the loop\n",
    "    else: \n",
    "        break\n",
    " \n",
    "# When everything done, release the video capture object\n",
    "cap.release()\n",
    " \n",
    "# Closes all the frames\n",
    "cv2.destroyAllWindows()"
   ]
  },
  {
   "cell_type": "code",
   "execution_count": null,
   "metadata": {},
   "outputs": [],
   "source": []
  }
 ],
 "metadata": {
  "kernelspec": {
   "display_name": "Python 3",
   "language": "python",
   "name": "python3"
  },
  "language_info": {
   "codemirror_mode": {
    "name": "ipython",
    "version": 3
   },
   "file_extension": ".py",
   "mimetype": "text/x-python",
   "name": "python",
   "nbconvert_exporter": "python",
   "pygments_lexer": "ipython3",
   "version": "3.7.4"
  }
 },
 "nbformat": 4,
 "nbformat_minor": 4
}
